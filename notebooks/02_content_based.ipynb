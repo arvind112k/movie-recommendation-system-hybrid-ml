{
 "cells": [
  {
   "cell_type": "markdown",
   "id": "a7979604",
   "metadata": {},
   "source": [
    "## 1. Import & Load Dataset"
   ]
  },
  {
   "cell_type": "code",
   "execution_count": 2,
   "id": "965463d5",
   "metadata": {},
   "outputs": [],
   "source": [
    "import sys\n",
    "import os\n",
    "sys.path.append(os.path.abspath(\"../\"))\n",
    "\n",
    "import pandas as pd\n",
    "from src.data_loader import load_data\n",
    "\n",
    "df = load_data(\"../data/TMDB_movies.csv\")\n",
    "df = df.reset_index(drop=True)"
   ]
  },
  {
   "cell_type": "code",
   "execution_count": 13,
   "id": "b765dfe0",
   "metadata": {},
   "outputs": [],
   "source": [
    "# Data Handling\n",
    "import pandas as pd\n",
    "import numpy as np\n",
    "\n",
    "# Text Vectorization\n",
    "from sklearn.feature_extraction.text import TfidfVectorizer\n",
    "\n",
    "# Similarity Calculation\n",
    "from sklearn.metrics.pairwise import cosine_similarity"
   ]
  },
  {
   "cell_type": "markdown",
   "id": "758f925e",
   "metadata": {},
   "source": [
    "## 2. Preprocess Text Columns"
   ]
  },
  {
   "cell_type": "code",
   "execution_count": 14,
   "id": "5ac1abd3",
   "metadata": {},
   "outputs": [],
   "source": [
    "# Fill missing overviews\n",
    "df['overview'] = df['overview'].fillna('')\n",
    "df['genres'] = df['genre'].fillna('')\n",
    "\n",
    "# Combine overview + genre to improve recommendations\n",
    "df['content'] = df['overview'] + ' ' + df['genres']"
   ]
  },
  {
   "cell_type": "markdown",
   "id": "de9b0cf2",
   "metadata": {},
   "source": [
    "## 3. TF-IDF Vectorization"
   ]
  },
  {
   "cell_type": "code",
   "execution_count": 18,
   "id": "6045dc2d",
   "metadata": {},
   "outputs": [],
   "source": [
    "from sklearn.feature_extraction.text import TfidfVectorizer\n",
    "\n",
    "# Limit max features to prevent memory overload\n",
    "tfidf = TfidfVectorizer(max_features=10000, stop_words='english')\n",
    "\n",
    "tfidf_matrix = tfidf.fit_transform(df['content'])"
   ]
  },
  {
   "cell_type": "code",
   "execution_count": 19,
   "id": "d468e4fe",
   "metadata": {},
   "outputs": [
    {
     "name": "stdout",
     "output_type": "stream",
     "text": [
      "TF-IDF Matrix Shape: (9985, 10000)\n"
     ]
    }
   ],
   "source": [
    "print(\"TF-IDF Matrix Shape:\", tfidf_matrix.shape)"
   ]
  },
  {
   "cell_type": "code",
   "execution_count": 20,
   "id": "79172cce",
   "metadata": {},
   "outputs": [
    {
     "name": "stdout",
     "output_type": "stream",
     "text": [
      "['000' '007' '10' '100' '11' '117' '11th' '12' '12th' '13' '13th' '14'\n",
      " '14th' '15' '150' '15th' '16' '16th' '17' '17th' '18' '1890s' '18th' '19'\n",
      " '1900' '1905' '1920' '1920s' '1927' '1930s' '1933' '1936' '1937' '1939'\n",
      " '1940' '1940s' '1941' '1942' '1943' '1944' '1945' '1947' '1949' '1950'\n",
      " '1950s' '1955' '1956' '1957' '1958' '1959' '1960' '1960s' '1962' '1963'\n",
      " '1964' '1965' '1966' '1967' '1968' '1969' '1970' '1970s' '1971' '1972'\n",
      " '1973' '1974' '1976' '1977' '1978' '1979' '1980' '1980s' '1981' '1982'\n",
      " '1983' '1984' '1985' '1986' '1987' '1988' '1989' '1990' '1990s' '1991'\n",
      " '1992' '1993' '1995' '1996' '1999' '19th' '20' '200' '2001' '2003' '2006'\n",
      " '2008' '2009' '2010' '2011' '2013' '2015' '2019' '2029' '20s' '20th' '21'\n",
      " '21st' '22' '22nd' '23' '24' '25' '26' '27' '28' '29' '30' '300' '30s'\n",
      " '30th' '34' '35' '39' '3d' '40' '400' '47' '48' '50' '500' '50s' '51'\n",
      " '60' '60s' '70' '70s' '72' '7th' '80' '80s' '90' '90s' 'aaron' 'abahachi'\n",
      " 'abandon' 'abandoned' 'abandoning' 'abandons' 'abbey' 'abby' 'abduct'\n",
      " 'abducted' 'abduction' 'abductions' 'abducts' 'abiding' 'abigail'\n",
      " 'abilities' 'ability' 'able' 'aboard' 'abraham' 'abroad' 'abruptly'\n",
      " 'absence' 'absent' 'absolute' 'absolutely' 'absorbed' 'absurd' 'abuse'\n",
      " 'abused' 'abusing' 'abusive' 'academic' 'academy' 'accept' 'acceptance'\n",
      " 'accepted' 'accepting' 'accepts' 'access' 'accident' 'accidental'\n",
      " 'accidentally' 'accidents' 'acclaimed' 'accompanied' 'accompanies'\n",
      " 'accompany' 'accompanying' 'accomplice' 'accomplish' 'accomplished'\n",
      " 'according' 'account' 'accountant' 'accounts' 'accusations' 'accuse'\n",
      " 'accused' 'accuses' 'accustomed' 'ace' 'achieve' 'achieved'\n",
      " 'achievements' 'achieves' 'achieving' 'acquaintance' 'acquaintances'\n",
      " 'acquainted' 'acquired' 'acquires' 'acquiring' 'acquitted' 'acre' 'act'\n",
      " 'acting' 'action' 'actions' 'active' 'activist' 'activists' 'activities'\n",
      " 'activity' 'actor' 'actors' 'actress' 'acts' 'actual' 'actually' 'acute'\n",
      " 'ad' 'ada' 'adam' 'adams' 'adapt' 'adaptation' 'adapted' 'adapting'\n",
      " 'adaption' 'adapts' 'add' 'addams' 'added' 'addict' 'addicted'\n",
      " 'addiction' 'addicts' 'addison' 'addition' 'additional' 'addled' 'adds'\n",
      " 'adelaide' 'adele' 'adept' 'adjust' 'adjustment' 'administering'\n",
      " 'administration' 'admiral' 'admiration' 'admired' 'admiring' 'admit'\n",
      " 'admits' 'admitted' 'adolescence' 'adolescent' 'adolf' 'adopt' 'adopted'\n",
      " 'adoption' 'adoptive' 'adopts' 'adorable' 'adoration' 'adoring'\n",
      " 'adrenaline' 'adrian' 'adrien' 'adrift' 'adult' 'adulterous' 'adulthood'\n",
      " 'adults' 'advance' 'advanced' 'advances' 'advantage' 'adventure'\n",
      " 'adventurer' 'adventurers' 'adventures' 'adventurous' 'adversaries'\n",
      " 'adversary' 'advertising' 'advice' 'advised' 'adviser' 'advisers'\n",
      " 'advisor' 'advocate' 'aerial' 'afar' 'affable' 'affair' 'affairs'\n",
      " 'affect' 'affected' 'affection' 'affections' 'affects' 'afflicted'\n",
      " 'affliction' 'affluent' 'afford' 'afghan' 'afghanistan' 'afoul' 'afraid'\n",
      " 'africa' 'african' 'afro' 'afterlife' 'aftermath' 'afternoon' 'age'\n",
      " 'aged' 'ageing' 'agency' 'agenda' 'agent' 'agents' 'ages' 'aggressive'\n",
      " 'aging' 'agnes' 'agnès' 'ago' 'agoraphobia' 'agoraphobic' 'agree'\n",
      " 'agreed' 'agreement' 'agrees' 'ah' 'ahead' 'ahmad' 'aid' 'aidan' 'aide'\n",
      " 'aided' 'aids' 'ailing' 'aim' 'aimed' 'aimee' 'aiming' 'aimless' 'aims'\n",
      " 'air' 'airborne' 'aircraft' 'aires' 'airline' 'airplane' 'airport'\n",
      " 'aisle' 'aka' 'akeelah' 'akira' 'akkie' 'al' 'alabama' 'aladdin' 'alain'\n",
      " 'alan' 'alarming' 'alaska' 'alaskan' 'albeit' 'albert' 'alberto' 'album'\n",
      " 'alcatraz' 'alchemist' 'alcohol' 'alcoholic' 'aldo' 'aldous' 'alec'\n",
      " 'alejandro' 'alert' 'alessandro' 'alex' 'alexa' 'alexander' 'alexandre'\n",
      " 'alexis' 'alfie' 'alfred' 'algeria' 'algerian' 'ali' 'alibi' 'alice'\n",
      " 'alicia' 'alien' 'alienated' 'aliens' 'alike' 'alive' 'allan'\n",
      " 'allegations' 'allegedly' 'allegiance' 'allen' 'alliance' 'alliances'\n",
      " 'allied' 'allies' 'allison' 'allow' 'allowed' 'allowing' 'allows'\n",
      " 'allure' 'alluring' 'ally' 'alma' 'alongside' 'aloof' 'alpha' 'alphonse'\n",
      " 'alps' 'altar' 'alter' 'altered' 'altering' 'alternate' 'alternative'\n",
      " 'alters' 'alvin' 'alzheimer' 'amaia' 'aman' 'amanda' 'amateur' 'amazing'\n",
      " 'amazon' 'ambassador' 'amber' 'ambition' 'ambitions' 'ambitious'\n",
      " 'ambulance' 'ambushed' 'amends' 'america' 'american' 'americans' 'amid'\n",
      " 'amidst' 'amin' 'amnesia' 'amoral' 'amsterdam' 'amusement' 'amy' 'ana'\n",
      " 'anakin' 'analyst' 'ancestor' 'ancestral' 'anchor' 'ancient' 'anderson'\n",
      " 'andie' 'andrea' 'andrei' 'andrew' 'android' 'androids' 'andré' 'andy'\n",
      " 'anew' 'angel' 'angela' 'angeles' 'angelic' 'angels' 'anger' 'angrily'\n",
      " 'angry' 'angst' 'animal' 'animals' 'animated' 'animation' 'anime' 'ann'\n",
      " 'anna' 'annabelle' 'anne' 'annie' 'annihilation' 'anniversary'\n",
      " 'announces' 'annoying' 'annual' 'anonymity' 'anonymous' 'answer'\n",
      " 'answered' 'answers' 'ant' 'antarctica' 'anthology' 'anthony' 'anti'\n",
      " 'antics' 'antidote' 'antoine' 'antoinette' 'anton' 'antonio' 'ants'\n",
      " 'anubis' 'anxiety' 'anxious' 'anymore' 'apache' 'apart' 'apartment'\n",
      " 'apartments' 'ape' 'apes' 'apocalypse' 'apocalyptic' 'apollo' 'app'\n",
      " 'appalachian' 'apparent' 'apparently' 'apparitions' 'appeal' 'appear'\n",
      " 'appearance' 'appearances' 'appeared' 'appearing' 'appears' 'appetite'\n",
      " 'apple' 'applies' 'apply' 'appointed' 'appointment' 'appoints'\n",
      " 'appreciate' 'appreciates' 'apprehend' 'apprentice' 'approach'\n",
      " 'approached' 'approaches' 'approaching' 'approved' 'april' 'aquarium'\n",
      " 'arab' 'aramis' 'arch' 'archaeological' 'archaeologist' 'archaic'\n",
      " 'archenemy' 'architect' 'arctic' 'arduous' 'area' 'aren' 'arena'\n",
      " 'argentina' 'argentinian' 'ariane' 'ariel' 'arise' 'arises' 'aristocrat'\n",
      " 'aristocratic' 'arizona' 'ark' 'arkansas' 'arm' 'armed' 'armies'\n",
      " 'armored' 'arms' 'armstrong' 'army' 'arnie' 'arnold' 'arrange' 'arranged'\n",
      " 'arrangement' 'arranges' 'array' 'arrest' 'arrested' 'arrests' 'arrival'\n",
      " 'arrive' 'arrived' 'arrives' 'arriving' 'arrogance' 'arrogant' 'arsenal'\n",
      " 'art' 'artagnan' 'arthur' 'article' 'artifact' 'artifacts' 'artificial'\n",
      " 'artist' 'artistic' 'artists' 'arts' 'arturo' 'asgard' 'ash' 'ashamed'\n",
      " 'ashes' 'ashley' 'ashore' 'asia' 'asian' 'aside' 'ask' 'asked' 'asking'\n",
      " 'asks' 'asleep' 'aspect' 'aspects' 'aspirations' 'aspires' 'aspiring'\n",
      " 'ass' 'assailant' 'assassin' 'assassinate' 'assassinated' 'assassination'\n",
      " 'assassins' 'assault' 'assaulted' 'assemble' 'assembles' 'asset'\n",
      " 'assigned' 'assignment' 'assigns' 'assist' 'assistance' 'assistant'\n",
      " 'assisted' 'assisting' 'associate' 'associated' 'associates'\n",
      " 'association' 'assorted' 'assume' 'assumes' 'assuming' 'assured'\n",
      " 'asterix' 'asteroid' 'astonishing' 'astronaut' 'astronauts' 'astronomer'\n",
      " 'asylum' 'atheist' 'athlete' 'athletes' 'athletic' 'athos' 'atlanta'\n",
      " 'atlantic' 'atmosphere' 'atomic' 'attached' 'attack' 'attacked'\n",
      " 'attacker' 'attacking' 'attacks' 'attempt' 'attempted' 'attempting'\n",
      " 'attempts' 'attend' 'attendant' 'attending' 'attends' 'attention' 'attic'\n",
      " 'attitude' 'attorney' 'attract' 'attracted' 'attracting' 'attraction'\n",
      " 'attractions' 'attractive' 'attracts' 'audacious' 'audience' 'audiences'\n",
      " 'audition' 'auditions' 'audrey' 'august' 'aunt' 'aunts' 'aurora' 'austen'\n",
      " 'austin' 'australia' 'australian' 'austria' 'austrian' 'author'\n",
      " 'authorities' 'authority' 'autistic' 'auto' 'autobiographical'\n",
      " 'autobiography' 'autobots' 'automobile' 'avail' 'available' 'avalanche'\n",
      " 'avalon' 'avenge' 'avenger' 'avengers' 'avenging' 'avenue' 'average'\n",
      " 'avert' 'avery' 'aviation' 'avoid' 'avoiding' 'await' 'awaited'\n",
      " 'awaiting' 'awaits' 'awake' 'awaken' 'awakened' 'awakening' 'awakens'\n",
      " 'awakes' 'award' 'awarded' 'awards' 'aware' 'away' 'awe' 'awesome'\n",
      " 'awkward' 'awol' 'awry' 'axe' 'axel' 'ayla' 'babe' 'babies' 'baby'\n",
      " 'babysit' 'babysitter' 'babysitting' 'bachelor' 'backdrop' 'backed'\n",
      " 'background' 'backgrounds' 'backpackers' 'backs' 'backup' 'backwards'\n",
      " 'backwater' 'backwoods' 'backyard' 'bad' 'badii' 'badlands' 'badly'\n",
      " 'baffling' 'bag' 'baggage' 'baggins' 'bagheera' 'bags' 'bahamas' 'bail'\n",
      " 'bailey' 'bait' 'baker' 'balance' 'balboa' 'balcony' 'baldwin' 'ball'\n",
      " 'ballerina' 'ballet' 'balloon' 'balls' 'baloo' 'balthazar' 'baltimore'\n",
      " 'bamberski' 'ban' 'banana' 'band' 'bandit' 'bandits' 'bands' 'bangkok'\n",
      " 'banished' 'bank' 'banker' 'banking' 'bankrupt' 'bankruptcy' 'banks'\n",
      " 'banned' 'banner' 'banning' 'bannister' 'bannon' 'bar' 'barbara'\n",
      " 'barbarian' 'barbecue' 'barber' 'barbershop' 'barbie' 'barcelona'\n",
      " 'bardock' 'bare' 'barely' 'bargained' 'barker' 'barn' 'barnes' 'barney'\n",
      " 'baron' 'barons' 'barracks' 'barred' 'barren' 'barrett' 'barrier'\n",
      " 'barrios' 'barrow' 'barry' 'bars' 'bart' 'bartender' 'base' 'baseball'\n",
      " 'based' 'basement' 'basis' 'basket' 'basketball' 'basque' 'batch' 'bates'\n",
      " 'bathing' 'bathroom' 'batman' 'battalion' 'battle' 'battlefield'\n",
      " 'battleground' 'battles' 'battling' 'baxter' 'bay' 'beach' 'beaches'\n",
      " 'beam' 'bean' 'bear' 'beard' 'bearer' 'bearing' 'bears' 'beast' 'beasts'\n",
      " 'beat' 'beaten' 'beating' 'beatles' 'beatrice' 'beats' 'beau' 'beaumont'\n",
      " 'beautician' 'beautiful' 'beauty' 'beck' 'becky' 'bed' 'bedroom'\n",
      " 'bedtime' 'bee' 'beer' 'beethoven' 'befall' 'befriend' 'befriended'\n",
      " 'befriending' 'befriends' 'began' 'begging' 'begin' 'beginning'\n",
      " 'beginnings' 'begins' 'begrudgingly' 'begun' 'behalf' 'behave' 'behavior'\n",
      " 'behaviour' 'beijing' 'beings' 'beirut' 'belfast' 'belgian' 'belgium'\n",
      " 'belief' 'beliefs' 'believe' 'believed' 'believes' 'believing' 'bell'\n",
      " 'bella' 'bellas' 'belle' 'belong' 'belonging' 'belongings' 'belongs'\n",
      " 'beloved' 'belt' 'ben' 'bender' 'bending' 'beneath' 'benedict'\n",
      " 'benefactor' 'benefit' 'benefits' 'benevolent' 'benjamin' 'bennet'\n",
      " 'bennett' 'benny' 'bent' 'beret' 'berg' 'berk' 'berlin' 'bernadette'\n",
      " 'bernard' 'bernie' 'besieged' 'best' 'bestseller' 'bestselling' 'bet'\n",
      " 'beta' 'beth' 'betray']\n"
     ]
    }
   ],
   "source": [
    "print(tfidf.get_feature_names_out()[:1000])  # First 20 words"
   ]
  },
  {
   "cell_type": "markdown",
   "id": "69c425b6",
   "metadata": {},
   "source": [
    "## 4. Compute Cosine Similarity"
   ]
  },
  {
   "cell_type": "code",
   "execution_count": 21,
   "id": "619fb421",
   "metadata": {},
   "outputs": [],
   "source": [
    "from sklearn.metrics.pairwise import linear_kernel\n",
    "\n",
    "# Compute the cosine similarity matrix\n",
    "cosine_sim = cosine_similarity(tfidf_matrix, tfidf_matrix)"
   ]
  },
  {
   "cell_type": "markdown",
   "id": "11b05ece",
   "metadata": {},
   "source": [
    "## 5. Recommendation Function"
   ]
  },
  {
   "cell_type": "code",
   "execution_count": 24,
   "id": "fb6936e6",
   "metadata": {},
   "outputs": [],
   "source": [
    "# Build reverse index\n",
    "indices = pd.Series(df.index, index=df['title'].str.lower()).drop_duplicates()\n",
    "\n",
    "def recommend_content_based(title, top_n=5):\n",
    "    title = title.lower()\n",
    "\n",
    "    if title not in indices:\n",
    "        return f\"Movie '{title}' not found in dataset.\"\n",
    "\n",
    "    # Get the index of the movie\n",
    "    idx = indices[title]\n",
    "\n",
    "    # Get similarity scores\n",
    "    sim_scores = list(enumerate(cosine_sim[idx]))\n",
    "\n",
    "    # Get indices of top N similar movies (excluding itself)\n",
    "    sim_scores = sorted(sim_scores, key=lambda x: x[1], reverse=True)[1:top_n+1]\n",
    "\n",
    "    # Return top N similar movies with key detail\n",
    "    recommended_indices = [i[0] for i in sim_scores]\n",
    "    return df[['title', 'genre', 'vote_average', 'popularity']].iloc[recommended_indices]"
   ]
  },
  {
   "cell_type": "markdown",
   "id": "e1cce993",
   "metadata": {},
   "source": [
    "## 6. Test the Recommender"
   ]
  },
  {
   "cell_type": "code",
   "execution_count": 25,
   "id": "20202b98",
   "metadata": {},
   "outputs": [
    {
     "data": {
      "application/vnd.microsoft.datawrangler.viewer.v0+json": {
       "columns": [
        {
         "name": "index",
         "rawType": "int64",
         "type": "integer"
        },
        {
         "name": "title",
         "rawType": "object",
         "type": "string"
        },
        {
         "name": "genre",
         "rawType": "object",
         "type": "string"
        },
        {
         "name": "vote_average",
         "rawType": "float64",
         "type": "float"
        },
        {
         "name": "popularity",
         "rawType": "float64",
         "type": "float"
        }
       ],
       "conversionMethod": "pd.DataFrame",
       "ref": "4a3950bd-daad-48d4-8b02-66d6a7737481",
       "rows": [
        [
         "1729",
         "New World",
         "thriller,crime,drama",
         "7.4",
         "10.33"
        ],
        [
         "2730",
         "Suicide Squad: Hell to Pay",
         "science fiction,action,animation",
         "7.1",
         "40.675"
        ],
        [
         "361",
         "What Ever Happened to Baby Jane?",
         "drama,horror,thriller",
         "8.0",
         "10.735"
        ],
        [
         "8274",
         "Stowaway",
         "science fiction,drama,thriller,adventure",
         "5.9",
         "23.376"
        ],
        [
         "4634",
         "Cypher",
         "thriller,science fiction",
         "6.7",
         "7.298"
        ]
       ],
       "shape": {
        "columns": 4,
        "rows": 5
       }
      },
      "text/html": [
       "<div>\n",
       "<style scoped>\n",
       "    .dataframe tbody tr th:only-of-type {\n",
       "        vertical-align: middle;\n",
       "    }\n",
       "\n",
       "    .dataframe tbody tr th {\n",
       "        vertical-align: top;\n",
       "    }\n",
       "\n",
       "    .dataframe thead th {\n",
       "        text-align: right;\n",
       "    }\n",
       "</style>\n",
       "<table border=\"1\" class=\"dataframe\">\n",
       "  <thead>\n",
       "    <tr style=\"text-align: right;\">\n",
       "      <th></th>\n",
       "      <th>title</th>\n",
       "      <th>genre</th>\n",
       "      <th>vote_average</th>\n",
       "      <th>popularity</th>\n",
       "    </tr>\n",
       "  </thead>\n",
       "  <tbody>\n",
       "    <tr>\n",
       "      <th>1729</th>\n",
       "      <td>New World</td>\n",
       "      <td>thriller,crime,drama</td>\n",
       "      <td>7.4</td>\n",
       "      <td>10.330</td>\n",
       "    </tr>\n",
       "    <tr>\n",
       "      <th>2730</th>\n",
       "      <td>Suicide Squad: Hell to Pay</td>\n",
       "      <td>science fiction,action,animation</td>\n",
       "      <td>7.1</td>\n",
       "      <td>40.675</td>\n",
       "    </tr>\n",
       "    <tr>\n",
       "      <th>361</th>\n",
       "      <td>What Ever Happened to Baby Jane?</td>\n",
       "      <td>drama,horror,thriller</td>\n",
       "      <td>8.0</td>\n",
       "      <td>10.735</td>\n",
       "    </tr>\n",
       "    <tr>\n",
       "      <th>8274</th>\n",
       "      <td>Stowaway</td>\n",
       "      <td>science fiction,drama,thriller,adventure</td>\n",
       "      <td>5.9</td>\n",
       "      <td>23.376</td>\n",
       "    </tr>\n",
       "    <tr>\n",
       "      <th>4634</th>\n",
       "      <td>Cypher</td>\n",
       "      <td>thriller,science fiction</td>\n",
       "      <td>6.7</td>\n",
       "      <td>7.298</td>\n",
       "    </tr>\n",
       "  </tbody>\n",
       "</table>\n",
       "</div>"
      ],
      "text/plain": [
       "                                 title  \\\n",
       "1729                         New World   \n",
       "2730        Suicide Squad: Hell to Pay   \n",
       "361   What Ever Happened to Baby Jane?   \n",
       "8274                          Stowaway   \n",
       "4634                            Cypher   \n",
       "\n",
       "                                         genre  vote_average  popularity  \n",
       "1729                      thriller,crime,drama           7.4      10.330  \n",
       "2730          science fiction,action,animation           7.1      40.675  \n",
       "361                      drama,horror,thriller           8.0      10.735  \n",
       "8274  science fiction,drama,thriller,adventure           5.9      23.376  \n",
       "4634                  thriller,science fiction           6.7       7.298  "
      ]
     },
     "execution_count": 25,
     "metadata": {},
     "output_type": "execute_result"
    }
   ],
   "source": [
    "recommend_content_based(\"Inception\", top_n=5)"
   ]
  },
  {
   "cell_type": "code",
   "execution_count": null,
   "id": "5d46d036",
   "metadata": {},
   "outputs": [],
   "source": []
  }
 ],
 "metadata": {
  "kernelspec": {
   "display_name": "Python 3",
   "language": "python",
   "name": "python3"
  },
  "language_info": {
   "codemirror_mode": {
    "name": "ipython",
    "version": 3
   },
   "file_extension": ".py",
   "mimetype": "text/x-python",
   "name": "python",
   "nbconvert_exporter": "python",
   "pygments_lexer": "ipython3",
   "version": "3.11.11"
  }
 },
 "nbformat": 4,
 "nbformat_minor": 5
}
